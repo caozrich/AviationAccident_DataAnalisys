{
 "cells": [
  {
   "cell_type": "markdown",
   "metadata": {},
   "source": [
    "## ETL - Accidentes de aviones"
   ]
  },
  {
   "cell_type": "code",
   "execution_count": null,
   "metadata": {},
   "outputs": [],
   "source": [
    "import pandas as pd\n",
    "import numpy as np\n",
    "import matplotlib.pyplot as plt\n",
    "import re\n",
    "import sqlite3"
   ]
  },
  {
   "cell_type": "markdown",
   "metadata": {},
   "source": [
    "### 1. cargar los dataset a usar:"
   ]
  },
  {
   "cell_type": "code",
   "execution_count": null,
   "metadata": {},
   "outputs": [],
   "source": [
    "df = pd.read_csv(\"AccidentesAviones.csv\", index_col = 0)\n",
    "df2 = pd.read_csv(\"aviation-accident.csv\") #DATASET ADICIONAL (https://aviation-safety.net/database/)"
   ]
  },
  {
   "cell_type": "markdown",
   "metadata": {},
   "source": [
    "### 2. corregir nombre de columnas y reemplazamos nulos por ?"
   ]
  },
  {
   "cell_type": "code",
   "execution_count": null,
   "metadata": {},
   "outputs": [],
   "source": [
    "df = df.rename(columns={'fecha': 'date','HORA declarada': 'time', 'OperadOR': 'operator','PASAJEROS A BORDO': 'Passengers Aboard','cantidad de fallecidos': 'fatalities', 'route': 'type'})\n",
    "df = df.replace('?', np.nan)"
   ]
  },
  {
   "cell_type": "markdown",
   "metadata": {},
   "source": [
    "### 3. transformar los diferentes formatos de hora a HH:MM"
   ]
  },
  {
   "cell_type": "code",
   "execution_count": null,
   "metadata": {},
   "outputs": [],
   "source": [
    "def format_time(time_str):\n",
    "    if pd.isna(time_str): \n",
    "        return None\n",
    "\n",
    "    patterns = [\n",
    "        r'^c\\s+(\\d{2}:\\d{2})$',  # Formato \"c hh:mm\"\n",
    "        r'^(\\d{2}:\\d{2})$',  # Formato \"hh:mm\"\n",
    "        r'^(\\d{4})Z$',  # Formato \"hhmmZ\"\n",
    "        r'^(\\d{2}\\d{2})$'  # Formato \"hhmm\"\n",
    "    ]\n",
    "\n",
    "    for pattern in patterns:\n",
    "        match = re.search(pattern, str(time_str))\n",
    "        if match:\n",
    "            time_value = match.group(1)\n",
    "            time_value = time_value.replace(':', '') \n",
    "            return time_value\n",
    "\n",
    "    return None\n",
    "\n",
    "df['time'] = df['time'].apply(format_time)\n",
    "df['time'] = pd.to_datetime(df['time'], format='%H%M', errors='coerce').dt.time\n",
    "df['date'] = pd.to_datetime(df['date'], format='%B %d, %Y')\n"
   ]
  },
  {
   "cell_type": "markdown",
   "metadata": {},
   "source": [
    "### 4. convertir las locaciones de la columna Ruta a nombres de paises"
   ]
  },
  {
   "cell_type": "code",
   "execution_count": null,
   "metadata": {},
   "outputs": [],
   "source": [
    "s = df['Ruta'].str[0:].str.split(',', expand=True)\n",
    "print(s)\n",
    "df['Country'] = s[2].fillna(s[1]).fillna(s[0]).str.strip()\n",
    "#I've pulled out all the US states so as to be able to assign them a country\n",
    "usNames = ['Virginia','New Jersey','Ohio','Pennsylvania', 'Maryland', 'Indiana', 'Iowa',\n",
    "          'Illinois','Wyoming', 'Minnisota', 'Wisconsin', 'Nevada', 'NY','California',\n",
    "          'WY','New York','Oregon', 'Idaho', 'Connecticut','Nebraska', 'Minnesota', 'Kansas',\n",
    "          'Texas', 'Tennessee', 'West Virginia', 'New Mexico', 'Washington', 'Massachusetts',\n",
    "          'Utah', 'Ilinois','Florida', 'Michigan', 'Arkansas','Colorado', 'Georgia''Missouri',\n",
    "          'Montana', 'Mississippi','Alaska','Jersey', 'Cailifornia', 'Oklahoma','North Carolina',\n",
    "          'Kentucky','Delaware','D.C.','Arazona','Arizona','South Dekota','New Hampshire','Hawaii',\n",
    "          'Washingon','Massachusett','Washington DC','Tennesee','Deleware','Louisiana',\n",
    "          'Massachutes', 'Louisana', 'New York (Idlewild)','Oklohoma','North Dakota','Rhode Island',\n",
    "          'Maine','Alakska','Wisconson','Calilfornia','Virginia','Virginia.','CA','Vermont',\n",
    "          'HI','AK','IN','GA','Coloado','Airzona','Alabama','Alaksa' \n",
    "          ]\n",
    "\n",
    "#Decided to try and cleanse the country names.\n",
    "afNames = ['Afghanstan'] #Afghanistan\n",
    "anNames = ['off Angola'] #Angola\n",
    "ausNames = ['Qld. Australia','Queensland  Australia','Tasmania','off Australia'] #Australia\n",
    "argNames = ['Aregntina'] #Argentina\n",
    "azNames = ['Azores (Portugal)'] #Azores\n",
    "baNames = ['Baangladesh'] #Bangladesh\n",
    "bahNames = ['Great Inagua'] #Bahamas\n",
    "berNames = ['off Bermuda'] #Bermuda\n",
    "bolNames = ['Boliva','BO'] #Bolivia\n",
    "bhNames = ['Bosnia-Herzegovina'] #Bosnia Herzegovina\n",
    "bulNames = ['Bugaria','Bulgeria'] #Bulgaria\n",
    "canNames = ['British Columbia', 'British Columbia Canada','Canada2',\n",
    "            'Saskatchewan','Yukon Territory'] #Canada\n",
    "camNames = ['Cameroons','French Cameroons'] #Cameroon\n",
    "caNames = ['Cape Verde Islands'] #Cape Verde\n",
    "chNames = ['Chili'] #Chile\n",
    "coNames = ['Comoro Islands', 'Comoros Islands'] #Comoros\n",
    "djNames = ['Djbouti','Republiof Djibouti'] #Djibouti\n",
    "domNames = ['Domincan Republic', 'Dominica'] #Dominican Republic\n",
    "drcNames = ['Belgian Congo','Belgian Congo (Zaire)','Belgium Congo'\n",
    "           'DR Congo','DemocratiRepubliCogo','DemocratiRepubliCongo',\n",
    "            'DemocratiRepubliof Congo','DemoctratiRepubliCongo','Zaire',\n",
    "           'Zaïre'] #Democratic Republic of Congo\n",
    "faNames = ['French Equitorial Africa'] #French Equatorial Africa\n",
    "gerNames = ['East Germany','West Germany'] #Germany\n",
    "grNames = ['Crete'] #Greece\n",
    "haNames = ['Hati'] #Haiti\n",
    "hunNames = ['Hunary'] #Hungary\n",
    "inNames = ['Indian'] #India\n",
    "indNames = ['Inodnesia','Netherlands Indies'] #Indonesia\n",
    "jamNames = ['Jamacia'] #Jamaica\n",
    "malNames = ['Malaya'] #Malaysia\n",
    "manNames = ['Manmar'] #Myanmar\n",
    "marNames = ['Mauretania'] #Mauritania\n",
    "morNames = ['Morrocco','Morroco'] #Morocco\n",
    "nedNames = ['Amsterdam','The Netherlands'] #Netherlands\n",
    "niNames = ['Niger'] #Nigeria\n",
    "philNames = ['Philipines','Philippine Sea', 'Phillipines',\n",
    "            'off the Philippine island of Elalat'] #Philippines\n",
    "romNames = ['Romainia'] #Romania\n",
    "rusNames = ['Russian','Soviet Union','USSR'] #Russia\n",
    "saNames = ['Saint Lucia Island'] #Saint Lucia\n",
    "samNames = ['Western Samoa'] #Samoa\n",
    "siNames = ['Sierre Leone'] #Sierra Leone\n",
    "soNames = ['South Africa (Namibia)'] #South Africa\n",
    "surNames = ['Suriname'] #Surinam\n",
    "uaeNames = ['United Arab Emirates'] #UAE\n",
    "ukNames = ['England', 'UK','Wales','110 miles West of Ireland'] #United Kingdom\n",
    "uvNames = ['US Virgin Islands','Virgin Islands'] #U.S. Virgin Islands\n",
    "wkNames = ['325 miles east of Wake Island']#Wake Island\n",
    "yuNames = ['Yugosalvia'] #Yugoslavia\n",
    "zimNames = ['Rhodesia', 'Rhodesia (Zimbabwe)'] #Zimbabwe\n",
    "\n",
    "clnames = []\n",
    "for country in df['Country'].values:\n",
    "    if country in afNames:\n",
    "        clnames.append('Afghanistan')\n",
    "    elif country in anNames:\n",
    "        clnames.append('Angola')\n",
    "    elif country in ausNames:\n",
    "        clnames.append('Australia')\n",
    "    elif country in argNames:\n",
    "        clnames.append('Argentina')\n",
    "    elif country in azNames:\n",
    "        clnames.append('Azores')\n",
    "    elif country in baNames:\n",
    "        clnames.append('Bangladesh')\n",
    "    elif country in bahNames:\n",
    "        clnames.append('Bahamas')\n",
    "    elif country in berNames:\n",
    "        clnames.append('Bermuda')\n",
    "    elif country in bolNames:\n",
    "        clnames.append('Bolivia')\n",
    "    elif country in bhNames:\n",
    "        clnames.append('Bosnia Herzegovina')\n",
    "    elif country in bulNames:\n",
    "        clnames.append('Bulgaria')\n",
    "    elif country in canNames:\n",
    "        clnames.append('Canada')\n",
    "    elif country in camNames:\n",
    "        clnames.append('Cameroon')\n",
    "    elif country in caNames:\n",
    "        clnames.append('Cape Verde')\n",
    "    elif country in chNames:\n",
    "        clnames.append('Chile')\n",
    "    elif country in coNames:\n",
    "        clnames.append('Comoros')\n",
    "    elif country in djNames:\n",
    "        clnames.append('Djibouti')\n",
    "    elif country in domNames:\n",
    "        clnames.append('Dominican Republic')\n",
    "    elif country in drcNames:\n",
    "        clnames.append('Democratic Republic of Congo')\n",
    "    elif country in faNames:\n",
    "        clnames.append('French Equatorial Africa')\n",
    "    elif country in gerNames:\n",
    "        clnames.append('Germany')\n",
    "    elif country in grNames:\n",
    "        clnames.append('Greece')\n",
    "    elif country in haNames:\n",
    "        clnames.append('Haiti')\n",
    "    elif country in hunNames:\n",
    "        clnames.append('Hungary')\n",
    "    elif country in inNames:\n",
    "        clnames.append('India')\n",
    "    elif country in jamNames:\n",
    "        clnames.append('Jamaica')\n",
    "    elif country in malNames:\n",
    "        clnames.append('Malaysia')\n",
    "    elif country in manNames:\n",
    "        clnames.append('Myanmar')\n",
    "    elif country in marNames:\n",
    "        clnames.append('Mauritania')\n",
    "    elif country in morNames:\n",
    "        clnames.append('Morocco')\n",
    "    elif country in nedNames:\n",
    "        clnames.append('Netherlands')\n",
    "    elif country in niNames:\n",
    "        clnames.append('Nigeria')\n",
    "    elif country in philNames:\n",
    "        clnames.append('Philippines')\n",
    "    elif country in romNames:\n",
    "        clnames.append('Romania')\n",
    "    elif country in rusNames:\n",
    "        clnames.append('Russia')\n",
    "    elif country in saNames:\n",
    "        clnames.append('Saint Lucia')\n",
    "    elif country in samNames:\n",
    "        clnames.append('Samoa')\n",
    "    elif country in siNames:\n",
    "        clnames.append('Sierra Leone')\n",
    "    elif country in soNames:\n",
    "        clnames.append('South Africa')\n",
    "    elif country in surNames:\n",
    "        clnames.append('Surinam')\n",
    "    elif country in uaeNames:\n",
    "        clnames.append('UAE')\n",
    "    elif country in ukNames:\n",
    "        clnames.append('United Kingdom')\n",
    "    elif country in usNames:\n",
    "        clnames.append('United States')\n",
    "    elif country in uvNames:\n",
    "        clnames.append('U.S. Virgin Islands')\n",
    "    elif country in wkNames:\n",
    "        clnames.append('Wake Island')\n",
    "    elif country in yuNames:\n",
    "        clnames.append('Yugoslavia')\n",
    "    elif country in zimNames:\n",
    "        clnames.append('Zimbabwe')\n",
    "    else:\n",
    "        clnames.append(country)"
   ]
  },
  {
   "cell_type": "markdown",
   "metadata": {},
   "source": [
    "### 5. combinar los dos dataset para crear uno nuevo con las columnas mas importantes de ambos"
   ]
  },
  {
   "cell_type": "code",
   "execution_count": null,
   "metadata": {},
   "outputs": [],
   "source": [
    "df2['date'] = pd.to_datetime(df2['date'], errors='coerce')\n",
    "\n",
    "df2 = df2.dropna(subset=['date'])  \n",
    "new_df = df.loc[:, ['date', 'registration','fatalities','summary','all_aboard']]\n",
    "new_df2 = df2.loc[:, ['date', 'registration','fatalities','cat','location']]\n",
    "\n",
    "new_df = new_df.dropna(subset=['registration'])\n",
    "new_df2 = new_df2.dropna(subset=['registration'])\n",
    "\n",
    "new_df['registration'] = new_df['registration'].str.lower()\n",
    "new_df['registration'] = new_df['registration'].str.replace('-', '')\n",
    "new_df2['registration'] = new_df2['registration'].str.lower()\n",
    "new_df2['registration'] = new_df2['registration'].str.replace('-', '')\n",
    "\n",
    "merged_df = pd.merge(new_df, new_df2, on=['date', 'registration','fatalities'])\n"
   ]
  },
  {
   "cell_type": "markdown",
   "metadata": {},
   "source": [
    "### 7. guardar los dataset en formato .csv"
   ]
  },
  {
   "cell_type": "code",
   "execution_count": null,
   "metadata": {},
   "outputs": [],
   "source": [
    "df['Cleaned Country'] = clnames        \n",
    "df.to_csv(\"AA_Clean.csv\", index=False)"
   ]
  }
 ],
 "metadata": {
  "kernelspec": {
   "display_name": "Python 3.8.9 64-bit",
   "language": "python",
   "name": "python3"
  },
  "language_info": {
   "name": "python",
   "version": "3.8.9"
  },
  "orig_nbformat": 4,
  "vscode": {
   "interpreter": {
    "hash": "1ebfd70e8e208309f0073e4686460b1f34ef579ad55f5f612d87deea068362c3"
   }
  }
 },
 "nbformat": 4,
 "nbformat_minor": 2
}
